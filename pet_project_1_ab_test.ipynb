{
  "nbformat": 4,
  "nbformat_minor": 0,
  "metadata": {
    "colab": {
      "provenance": [],
      "collapsed_sections": []
    },
    "kernelspec": {
      "name": "python3",
      "display_name": "Python 3"
    },
    "language_info": {
      "name": "python"
    }
  },
  "cells": [
    {
      "cell_type": "code",
      "execution_count": 78,
      "metadata": {
        "id": "mP7JluM7q5jX"
      },
      "outputs": [],
      "source": [
        "import pandas as pd\n",
        "import numpy as np\n",
        "from matplotlib import pyplot as plt\n",
        "import scipy.stats as sps\n",
        "import seaborn as sns\n",
        "\n",
        "import warnings\n",
        "warnings.filterwarnings('ignore')"
      ]
    },
    {
      "cell_type": "markdown",
      "source": [
        "Загрузим данные и посмотрим на них:"
      ],
      "metadata": {
        "id": "kYMVsc0WQxmE"
      }
    },
    {
      "cell_type": "code",
      "source": [
        "data = pd.read_csv('/content/grocerywebsiteabtestdata.csv')"
      ],
      "metadata": {
        "id": "e31tkCOjrJeT"
      },
      "execution_count": 79,
      "outputs": []
    },
    {
      "cell_type": "code",
      "source": [
        "print(data.shape)\n",
        "data.head()"
      ],
      "metadata": {
        "colab": {
          "base_uri": "https://localhost:8080/",
          "height": 223
        },
        "id": "AaQKY8werhjH",
        "outputId": "29b73969-6e21-4fa3-ad36-8ab5ba9804ed"
      },
      "execution_count": 80,
      "outputs": [
        {
          "output_type": "stream",
          "name": "stdout",
          "text": [
            "(184588, 5)\n"
          ]
        },
        {
          "output_type": "execute_result",
          "data": {
            "text/plain": [
              "   RecordID   IP Address  LoggedInFlag  ServerID  VisitPageFlag\n",
              "0         1  39.13.114.2             1         2              0\n",
              "1         2    13.3.25.8             1         1              0\n",
              "2         3  247.8.211.8             1         1              0\n",
              "3         4  124.8.220.3             0         3              0\n",
              "4         5  60.10.192.7             0         2              0"
            ],
            "text/html": [
              "\n",
              "  <div id=\"df-54c5abeb-22dc-411e-a8f8-5b89cd8c2046\">\n",
              "    <div class=\"colab-df-container\">\n",
              "      <div>\n",
              "<style scoped>\n",
              "    .dataframe tbody tr th:only-of-type {\n",
              "        vertical-align: middle;\n",
              "    }\n",
              "\n",
              "    .dataframe tbody tr th {\n",
              "        vertical-align: top;\n",
              "    }\n",
              "\n",
              "    .dataframe thead th {\n",
              "        text-align: right;\n",
              "    }\n",
              "</style>\n",
              "<table border=\"1\" class=\"dataframe\">\n",
              "  <thead>\n",
              "    <tr style=\"text-align: right;\">\n",
              "      <th></th>\n",
              "      <th>RecordID</th>\n",
              "      <th>IP Address</th>\n",
              "      <th>LoggedInFlag</th>\n",
              "      <th>ServerID</th>\n",
              "      <th>VisitPageFlag</th>\n",
              "    </tr>\n",
              "  </thead>\n",
              "  <tbody>\n",
              "    <tr>\n",
              "      <th>0</th>\n",
              "      <td>1</td>\n",
              "      <td>39.13.114.2</td>\n",
              "      <td>1</td>\n",
              "      <td>2</td>\n",
              "      <td>0</td>\n",
              "    </tr>\n",
              "    <tr>\n",
              "      <th>1</th>\n",
              "      <td>2</td>\n",
              "      <td>13.3.25.8</td>\n",
              "      <td>1</td>\n",
              "      <td>1</td>\n",
              "      <td>0</td>\n",
              "    </tr>\n",
              "    <tr>\n",
              "      <th>2</th>\n",
              "      <td>3</td>\n",
              "      <td>247.8.211.8</td>\n",
              "      <td>1</td>\n",
              "      <td>1</td>\n",
              "      <td>0</td>\n",
              "    </tr>\n",
              "    <tr>\n",
              "      <th>3</th>\n",
              "      <td>4</td>\n",
              "      <td>124.8.220.3</td>\n",
              "      <td>0</td>\n",
              "      <td>3</td>\n",
              "      <td>0</td>\n",
              "    </tr>\n",
              "    <tr>\n",
              "      <th>4</th>\n",
              "      <td>5</td>\n",
              "      <td>60.10.192.7</td>\n",
              "      <td>0</td>\n",
              "      <td>2</td>\n",
              "      <td>0</td>\n",
              "    </tr>\n",
              "  </tbody>\n",
              "</table>\n",
              "</div>\n",
              "      <button class=\"colab-df-convert\" onclick=\"convertToInteractive('df-54c5abeb-22dc-411e-a8f8-5b89cd8c2046')\"\n",
              "              title=\"Convert this dataframe to an interactive table.\"\n",
              "              style=\"display:none;\">\n",
              "        \n",
              "  <svg xmlns=\"http://www.w3.org/2000/svg\" height=\"24px\"viewBox=\"0 0 24 24\"\n",
              "       width=\"24px\">\n",
              "    <path d=\"M0 0h24v24H0V0z\" fill=\"none\"/>\n",
              "    <path d=\"M18.56 5.44l.94 2.06.94-2.06 2.06-.94-2.06-.94-.94-2.06-.94 2.06-2.06.94zm-11 1L8.5 8.5l.94-2.06 2.06-.94-2.06-.94L8.5 2.5l-.94 2.06-2.06.94zm10 10l.94 2.06.94-2.06 2.06-.94-2.06-.94-.94-2.06-.94 2.06-2.06.94z\"/><path d=\"M17.41 7.96l-1.37-1.37c-.4-.4-.92-.59-1.43-.59-.52 0-1.04.2-1.43.59L10.3 9.45l-7.72 7.72c-.78.78-.78 2.05 0 2.83L4 21.41c.39.39.9.59 1.41.59.51 0 1.02-.2 1.41-.59l7.78-7.78 2.81-2.81c.8-.78.8-2.07 0-2.86zM5.41 20L4 18.59l7.72-7.72 1.47 1.35L5.41 20z\"/>\n",
              "  </svg>\n",
              "      </button>\n",
              "      \n",
              "  <style>\n",
              "    .colab-df-container {\n",
              "      display:flex;\n",
              "      flex-wrap:wrap;\n",
              "      gap: 12px;\n",
              "    }\n",
              "\n",
              "    .colab-df-convert {\n",
              "      background-color: #E8F0FE;\n",
              "      border: none;\n",
              "      border-radius: 50%;\n",
              "      cursor: pointer;\n",
              "      display: none;\n",
              "      fill: #1967D2;\n",
              "      height: 32px;\n",
              "      padding: 0 0 0 0;\n",
              "      width: 32px;\n",
              "    }\n",
              "\n",
              "    .colab-df-convert:hover {\n",
              "      background-color: #E2EBFA;\n",
              "      box-shadow: 0px 1px 2px rgba(60, 64, 67, 0.3), 0px 1px 3px 1px rgba(60, 64, 67, 0.15);\n",
              "      fill: #174EA6;\n",
              "    }\n",
              "\n",
              "    [theme=dark] .colab-df-convert {\n",
              "      background-color: #3B4455;\n",
              "      fill: #D2E3FC;\n",
              "    }\n",
              "\n",
              "    [theme=dark] .colab-df-convert:hover {\n",
              "      background-color: #434B5C;\n",
              "      box-shadow: 0px 1px 3px 1px rgba(0, 0, 0, 0.15);\n",
              "      filter: drop-shadow(0px 1px 2px rgba(0, 0, 0, 0.3));\n",
              "      fill: #FFFFFF;\n",
              "    }\n",
              "  </style>\n",
              "\n",
              "      <script>\n",
              "        const buttonEl =\n",
              "          document.querySelector('#df-54c5abeb-22dc-411e-a8f8-5b89cd8c2046 button.colab-df-convert');\n",
              "        buttonEl.style.display =\n",
              "          google.colab.kernel.accessAllowed ? 'block' : 'none';\n",
              "\n",
              "        async function convertToInteractive(key) {\n",
              "          const element = document.querySelector('#df-54c5abeb-22dc-411e-a8f8-5b89cd8c2046');\n",
              "          const dataTable =\n",
              "            await google.colab.kernel.invokeFunction('convertToInteractive',\n",
              "                                                     [key], {});\n",
              "          if (!dataTable) return;\n",
              "\n",
              "          const docLinkHtml = 'Like what you see? Visit the ' +\n",
              "            '<a target=\"_blank\" href=https://colab.research.google.com/notebooks/data_table.ipynb>data table notebook</a>'\n",
              "            + ' to learn more about interactive tables.';\n",
              "          element.innerHTML = '';\n",
              "          dataTable['output_type'] = 'display_data';\n",
              "          await google.colab.output.renderOutput(dataTable, element);\n",
              "          const docLink = document.createElement('div');\n",
              "          docLink.innerHTML = docLinkHtml;\n",
              "          element.appendChild(docLink);\n",
              "        }\n",
              "      </script>\n",
              "    </div>\n",
              "  </div>\n",
              "  "
            ]
          },
          "metadata": {},
          "execution_count": 80
        }
      ]
    },
    {
      "cell_type": "markdown",
      "source": [
        "Видим, что данные состоят из 5 столбцов:\n",
        "\n",
        "\n",
        "1.   RecordID $-$ идентификатор записи\n",
        "2.   IP adress $-$ ip-адрес\n",
        "3.   LoggedInFlag $-$ вошёл ли пользователь в свой аккаунт\n",
        "4.   Server ID $-$ сервер, через который был направлен пользователь\n",
        "5.   VisitPageFlag $-$ наша целевая переменная, которая отвечает за то, кликнул ли пользователь на страницу программы лояльности (loyalty program page)"
      ],
      "metadata": {
        "id": "6H2ARtgKRL2t"
      }
    },
    {
      "cell_type": "markdown",
      "source": [
        "Проверим данные на \"чистоту\":"
      ],
      "metadata": {
        "id": "nAz0h8a2CYY-"
      }
    },
    {
      "cell_type": "code",
      "source": [
        "data.isna().sum(axis=0)"
      ],
      "metadata": {
        "colab": {
          "base_uri": "https://localhost:8080/"
        },
        "id": "OpuvVbsZCcDl",
        "outputId": "9971b0aa-5482-4af3-871d-6fbeeb801537"
      },
      "execution_count": 81,
      "outputs": [
        {
          "output_type": "execute_result",
          "data": {
            "text/plain": [
              "RecordID         0\n",
              "IP Address       0\n",
              "LoggedInFlag     0\n",
              "ServerID         0\n",
              "VisitPageFlag    0\n",
              "dtype: int64"
            ]
          },
          "metadata": {},
          "execution_count": 81
        }
      ]
    },
    {
      "cell_type": "markdown",
      "source": [
        "Nan'ов нет - очень хорошо."
      ],
      "metadata": {
        "id": "KwxEAkx1Cg0O"
      }
    },
    {
      "cell_type": "markdown",
      "source": [
        "Теперь посмотрим на уникальные значения по столбцам и их количество:"
      ],
      "metadata": {
        "id": "C1kYkNXITHJs"
      }
    },
    {
      "cell_type": "code",
      "source": [
        "plt.figure(figsize=(15, 5))\n",
        "\n",
        "plt.subplot(1, 3, 1)\n",
        "x = data['ServerID'].value_counts().sort_index()\n",
        "plt.pie(x=x, labels=x.index, autopct='%1.1f%%')\n",
        "plt.title(\"Server ID\")\n",
        "plt.legend()\n",
        "\n",
        "plt.subplot(1, 3, 2)\n",
        "plt.bar(x=['No', 'Yes'], height=data['LoggedInFlag'].value_counts().sort_index())\n",
        "plt.title(\"LoggedInFlag\")\n",
        "\n",
        "plt.subplot(1, 3, 3)\n",
        "plt.bar(x=['No', 'Yes'], height=data['VisitPageFlag'].value_counts().sort_index())\n",
        "plt.title(\"VisitPageFlag\")\n",
        "\n",
        "plt.show()"
      ],
      "metadata": {
        "id": "C9PozhGGrkUx",
        "colab": {
          "base_uri": "https://localhost:8080/",
          "height": 336
        },
        "outputId": "fe818166-9ad3-4f5f-e366-3d0eafebb51a"
      },
      "execution_count": 82,
      "outputs": [
        {
          "output_type": "display_data",
          "data": {
            "text/plain": [
              "<Figure size 1080x360 with 3 Axes>"
            ],
            "image/png": "[encoded data removed]"
          },
          "metadata": {
            "needs_background": "light"
          }
        }
      ]
    },
    {
      "cell_type": "code",
      "source": [
        "data['IP Address'].value_counts()"
      ],
      "metadata": {
        "colab": {
          "base_uri": "https://localhost:8080/"
        },
        "id": "2Tdrn-mLdilj",
        "outputId": "22dd8680-561b-4eb4-c373-1286a3b46507"
      },
      "execution_count": 83,
      "outputs": [
        {
          "output_type": "execute_result",
          "data": {
            "text/plain": [
              "224.4.217.7     9\n",
              "26.4.102.8      8\n",
              "5.7.136.5       8\n",
              "105.14.173.2    8\n",
              "52.3.153.6      8\n",
              "               ..\n",
              "197.6.50.6      1\n",
              "192.3.21.1      1\n",
              "3.13.120.6      1\n",
              "101.10.180.3    1\n",
              "207.2.110.5     1\n",
              "Name: IP Address, Length: 99516, dtype: int64"
            ]
          },
          "metadata": {},
          "execution_count": 83
        }
      ]
    },
    {
      "cell_type": "markdown",
      "source": [
        "Видим, что записи распределены по серверам и по параметру LoggedInFlag равномерно, а конверсия в посещение страницы составляет примерно 7-10%. \n",
        "\n",
        "Также стоит учесть то, что есть ip-адреса, с которых страницу посещали несколько раз, при этом уникальных значений ip-адреса в два раза меньше, чем всего записей в таблице. Заведём стоблец Total_VisitPageFlag, в котором будем хранить количество посещений страницы лояльности для одинаковых записей (записи считаются одинаковыми, если у них совпадает не только ip-адрес, но  и ServerID с LoggedInFlag):"
      ],
      "metadata": {
        "id": "csJ4Zwi2YoIl"
      }
    },
    {
      "cell_type": "code",
      "source": [
        "data = data.groupby(['IP Address', 'LoggedInFlag', 'ServerID'])['VisitPageFlag'].sum().reset_index(name='Total_VisitPageFlag')\n",
        "data.Total_VisitPageFlag.value_counts()"
      ],
      "metadata": {
        "colab": {
          "base_uri": "https://localhost:8080/"
        },
        "id": "9CWOUaQfKAK6",
        "outputId": "798f561b-5de2-4ab4-a318-2c8ae10d63a1"
      },
      "execution_count": 84,
      "outputs": [
        {
          "output_type": "execute_result",
          "data": {
            "text/plain": [
              "0    89785\n",
              "1     9238\n",
              "2      719\n",
              "3       20\n",
              "4        1\n",
              "Name: Total_VisitPageFlag, dtype: int64"
            ]
          },
          "metadata": {},
          "execution_count": 84
        }
      ]
    },
    {
      "cell_type": "markdown",
      "source": [
        "Так как нам важен сам факт посещения, то сделаем следующее: каждой записи с Total_VisitPageFlag $\\geq 1$ присвоим 1, иначе 0:"
      ],
      "metadata": {
        "id": "bJ-l-zfVDOu8"
      }
    },
    {
      "cell_type": "code",
      "source": [
        "data['Total_VisitPageFlag'] = data['Total_VisitPageFlag'].apply(lambda x: 1 if x > 0 else 0)\n",
        "data.Total_VisitPageFlag.value_counts()"
      ],
      "metadata": {
        "colab": {
          "base_uri": "https://localhost:8080/"
        },
        "id": "AOvZ5V5sEiUq",
        "outputId": "0433f7de-2beb-4eee-a3fc-e8d6907fe554"
      },
      "execution_count": 85,
      "outputs": [
        {
          "output_type": "execute_result",
          "data": {
            "text/plain": [
              "0    89785\n",
              "1     9978\n",
              "Name: Total_VisitPageFlag, dtype: int64"
            ]
          },
          "metadata": {},
          "execution_count": 85
        }
      ]
    },
    {
      "cell_type": "markdown",
      "source": [
        "Я собирался провести два A/B-теста для того, чтобы исследовать:\n",
        "\n",
        "1.   влияние залогиненности пользователя (столбец LoggedInFlag) на CTR ссылки программы лояльности\n",
        "2.   влияние сервера (стобец ServerID) на тот же CTR\n",
        "\n",
        "Однако при составлении таблицы сопряжённости для критерия хи-квадрат Пирсона я обнаружил, что залогиненные пользователи совсем не посещают страницу программы лояльности (ячейка кода ниже). Следовательно, хи-квадрат применять нельзя (при таком раскладе это и так не имеет особого смысла). Возможно, подобный казус с нулевой посещаемостью залогиненных пользователей вызван ошибкой с технической стороны - например, фронтэндеры сделали ссылку некликабельной :)"
      ],
      "metadata": {
        "id": "36YTAm1NIzhD"
      }
    },
    {
      "cell_type": "code",
      "source": [
        "cont_table = pd.crosstab(data['LoggedInFlag'],\n",
        "                         data['Total_VisitPageFlag'])\n",
        "cont_table"
      ],
      "metadata": {
        "colab": {
          "base_uri": "https://localhost:8080/",
          "height": 143
        },
        "id": "r6mxMez2E596",
        "outputId": "d8a25240-364d-4b70-cf92-b94726035396"
      },
      "execution_count": 86,
      "outputs": [
        {
          "output_type": "execute_result",
          "data": {
            "text/plain": [
              "Total_VisitPageFlag      0     1\n",
              "LoggedInFlag                    \n",
              "0                    39535  9978\n",
              "1                    50250     0"
            ],
            "text/html": [
              "\n",
              "  <div id=\"df-2791a416-e717-4443-b39e-4848e4fd93ae\">\n",
              "    <div class=\"colab-df-container\">\n",
              "      <div>\n",
              "<style scoped>\n",
              "    .dataframe tbody tr th:only-of-type {\n",
              "        vertical-align: middle;\n",
              "    }\n",
              "\n",
              "    .dataframe tbody tr th {\n",
              "        vertical-align: top;\n",
              "    }\n",
              "\n",
              "    .dataframe thead th {\n",
              "        text-align: right;\n",
              "    }\n",
              "</style>\n",
              "<table border=\"1\" class=\"dataframe\">\n",
              "  <thead>\n",
              "    <tr style=\"text-align: right;\">\n",
              "      <th>Total_VisitPageFlag</th>\n",
              "      <th>0</th>\n",
              "      <th>1</th>\n",
              "    </tr>\n",
              "    <tr>\n",
              "      <th>LoggedInFlag</th>\n",
              "      <th></th>\n",
              "      <th></th>\n",
              "    </tr>\n",
              "  </thead>\n",
              "  <tbody>\n",
              "    <tr>\n",
              "      <th>0</th>\n",
              "      <td>39535</td>\n",
              "      <td>9978</td>\n",
              "    </tr>\n",
              "    <tr>\n",
              "      <th>1</th>\n",
              "      <td>50250</td>\n",
              "      <td>0</td>\n",
              "    </tr>\n",
              "  </tbody>\n",
              "</table>\n",
              "</div>\n",
              "      <button class=\"colab-df-convert\" onclick=\"convertToInteractive('df-2791a416-e717-4443-b39e-4848e4fd93ae')\"\n",
              "              title=\"Convert this dataframe to an interactive table.\"\n",
              "              style=\"display:none;\">\n",
              "        \n",
              "  <svg xmlns=\"http://www.w3.org/2000/svg\" height=\"24px\"viewBox=\"0 0 24 24\"\n",
              "       width=\"24px\">\n",
              "    <path d=\"M0 0h24v24H0V0z\" fill=\"none\"/>\n",
              "    <path d=\"M18.56 5.44l.94 2.06.94-2.06 2.06-.94-2.06-.94-.94-2.06-.94 2.06-2.06.94zm-11 1L8.5 8.5l.94-2.06 2.06-.94-2.06-.94L8.5 2.5l-.94 2.06-2.06.94zm10 10l.94 2.06.94-2.06 2.06-.94-2.06-.94-.94-2.06-.94 2.06-2.06.94z\"/><path d=\"M17.41 7.96l-1.37-1.37c-.4-.4-.92-.59-1.43-.59-.52 0-1.04.2-1.43.59L10.3 9.45l-7.72 7.72c-.78.78-.78 2.05 0 2.83L4 21.41c.39.39.9.59 1.41.59.51 0 1.02-.2 1.41-.59l7.78-7.78 2.81-2.81c.8-.78.8-2.07 0-2.86zM5.41 20L4 18.59l7.72-7.72 1.47 1.35L5.41 20z\"/>\n",
              "  </svg>\n",
              "      </button>\n",
              "      \n",
              "  <style>\n",
              "    .colab-df-container {\n",
              "      display:flex;\n",
              "      flex-wrap:wrap;\n",
              "      gap: 12px;\n",
              "    }\n",
              "\n",
              "    .colab-df-convert {\n",
              "      background-color: #E8F0FE;\n",
              "      border: none;\n",
              "      border-radius: 50%;\n",
              "      cursor: pointer;\n",
              "      display: none;\n",
              "      fill: #1967D2;\n",
              "      height: 32px;\n",
              "      padding: 0 0 0 0;\n",
              "      width: 32px;\n",
              "    }\n",
              "\n",
              "    .colab-df-convert:hover {\n",
              "      background-color: #E2EBFA;\n",
              "      box-shadow: 0px 1px 2px rgba(60, 64, 67, 0.3), 0px 1px 3px 1px rgba(60, 64, 67, 0.15);\n",
              "      fill: #174EA6;\n",
              "    }\n",
              "\n",
              "    [theme=dark] .colab-df-convert {\n",
              "      background-color: #3B4455;\n",
              "      fill: #D2E3FC;\n",
              "    }\n",
              "\n",
              "    [theme=dark] .colab-df-convert:hover {\n",
              "      background-color: #434B5C;\n",
              "      box-shadow: 0px 1px 3px 1px rgba(0, 0, 0, 0.15);\n",
              "      filter: drop-shadow(0px 1px 2px rgba(0, 0, 0, 0.3));\n",
              "      fill: #FFFFFF;\n",
              "    }\n",
              "  </style>\n",
              "\n",
              "      <script>\n",
              "        const buttonEl =\n",
              "          document.querySelector('#df-2791a416-e717-4443-b39e-4848e4fd93ae button.colab-df-convert');\n",
              "        buttonEl.style.display =\n",
              "          google.colab.kernel.accessAllowed ? 'block' : 'none';\n",
              "\n",
              "        async function convertToInteractive(key) {\n",
              "          const element = document.querySelector('#df-2791a416-e717-4443-b39e-4848e4fd93ae');\n",
              "          const dataTable =\n",
              "            await google.colab.kernel.invokeFunction('convertToInteractive',\n",
              "                                                     [key], {});\n",
              "          if (!dataTable) return;\n",
              "\n",
              "          const docLinkHtml = 'Like what you see? Visit the ' +\n",
              "            '<a target=\"_blank\" href=https://colab.research.google.com/notebooks/data_table.ipynb>data table notebook</a>'\n",
              "            + ' to learn more about interactive tables.';\n",
              "          element.innerHTML = '';\n",
              "          dataTable['output_type'] = 'display_data';\n",
              "          await google.colab.output.renderOutput(dataTable, element);\n",
              "          const docLink = document.createElement('div');\n",
              "          docLink.innerHTML = docLinkHtml;\n",
              "          element.appendChild(docLink);\n",
              "        }\n",
              "      </script>\n",
              "    </div>\n",
              "  </div>\n",
              "  "
            ]
          },
          "metadata": {},
          "execution_count": 86
        }
      ]
    },
    {
      "cell_type": "markdown",
      "source": [
        "Поэтому ограничимся вторым A/B-тестом: будем сравнивать CTR на различных серверах. Разобьём на группы:"
      ],
      "metadata": {
        "id": "2kIjacqyOD7R"
      }
    },
    {
      "cell_type": "code",
      "source": [
        "data_1 = data[data['ServerID']==1]\n",
        "data_2 = data[data['ServerID']==2]\n",
        "data_3 = data[data['ServerID']==3]\n",
        "\n",
        "print(f\"CTR for server 1: {round(data_1.Total_VisitPageFlag.sum()/data_1.shape[0], 4)}\")\n",
        "print(f\"CTR for server 2: {round(data_2.Total_VisitPageFlag.sum()/data_1.shape[0], 4)}\")\n",
        "print(f\"CTR for server 3: {round(data_3.Total_VisitPageFlag.sum()/data_1.shape[0], 4)}\")"
      ],
      "metadata": {
        "id": "OKk_0qqH9S4K",
        "colab": {
          "base_uri": "https://localhost:8080/"
        },
        "outputId": "b6eef786-7807-4827-d380-98209a23bc89"
      },
      "execution_count": 87,
      "outputs": [
        {
          "output_type": "stream",
          "name": "stdout",
          "text": [
            "CTR for server 1: 0.1155\n",
            "CTR for server 2: 0.0916\n",
            "CTR for server 3: 0.0925\n"
          ]
        }
      ]
    },
    {
      "cell_type": "markdown",
      "source": [
        "CTR серверов 2 и 3 отличаются лишь в третьем знаке после запятой. Думаю, имеет смысл объединить в контрольную группу сервера 2 и 3, а в тестовую определить сервер 1, чтобы не пришлось замарачиваться с поправками на множественную проверку гипотез."
      ],
      "metadata": {
        "id": "zy4rHiPYLcNh"
      }
    },
    {
      "cell_type": "markdown",
      "source": [
        "Посмотрим также на распределение залогиненных пользователей по серверам:"
      ],
      "metadata": {
        "id": "sGFMSbz1XfKs"
      }
    },
    {
      "cell_type": "code",
      "source": [
        "plt.figure(figsize=(15, 5))\n",
        "\n",
        "for i in range(3):\n",
        "    plt.subplot(1, 3, i+1)\n",
        "    plt.bar(x=['No', 'Yes'], height=data[data['ServerID']==i+1].LoggedInFlag.value_counts().sort_index())\n",
        "    plt.title(f\"Server {i+1}\")\n",
        "    plt.xlabel('Logged In')\n",
        "\n",
        "plt.show()"
      ],
      "metadata": {
        "colab": {
          "base_uri": "https://localhost:8080/",
          "height": 350
        },
        "id": "GxJBg2qjTSte",
        "outputId": "bae5d33d-3a83-495e-93e7-16452cf54b71"
      },
      "execution_count": 88,
      "outputs": [
        {
          "output_type": "display_data",
          "data": {
            "text/plain": [
              "<Figure size 1080x360 with 3 Axes>"
            ],
            "image/png": "[encoded data removed]"
          },
          "metadata": {
            "needs_background": "light"
          }
        }
      ]
    },
    {
      "cell_type": "markdown",
      "source": [
        "Видим, что всё однородно $-$ можно спокойно применять стат. критерии."
      ],
      "metadata": {
        "id": "EU21An1DLODh"
      }
    },
    {
      "cell_type": "markdown",
      "source": [
        "Применим **критерий хи-квадрат Пирсона**. Формально поставим задачу:\n",
        "\n",
        "Гипотеза $H_0$: $CTR(Server \\; 1) = CTR(Server \\; 2 \\; \\& \\; 3) \\; -$ сервер не влияет на посещаемость страницы программы лояльности;\n",
        "\n",
        "Гипотеза $H_1$: $CTR(Server \\; 1) \\neq CTR(Server \\; 2 \\; \\& \\; 3) \\; -$ есть статистически значимое различие в CTR между серверами.\n",
        "\n",
        "Обозначим уровень значимости:  $\\alpha = 0.01$"
      ],
      "metadata": {
        "id": "r0-bFueyiyP4"
      }
    },
    {
      "cell_type": "markdown",
      "source": [
        "Создадим колонку Group, в которой, как и обговаривалось выше, серверу 1 присвоим значение test, а серверам 2 и 3 - control. Посмотрим, что получилось:"
      ],
      "metadata": {
        "id": "Pc6eZexxQfTw"
      }
    },
    {
      "cell_type": "code",
      "source": [
        "data['Group'] = data['ServerID'].map({1: 'test',\n",
        "                          2: 'control',\n",
        "                          3: 'control'})\n",
        "data.head()"
      ],
      "metadata": {
        "colab": {
          "base_uri": "https://localhost:8080/",
          "height": 206
        },
        "id": "WfvioO-CMWh-",
        "outputId": "b7136cdf-85aa-4e64-c33f-5b506b74299f"
      },
      "execution_count": 89,
      "outputs": [
        {
          "output_type": "execute_result",
          "data": {
            "text/plain": [
              "  IP Address  LoggedInFlag  ServerID  Total_VisitPageFlag    Group\n",
              "0  0.0.108.2             0         1                    0     test\n",
              "1  0.0.109.6             1         1                    0     test\n",
              "2  0.0.111.8             0         3                    0  control\n",
              "3  0.0.160.9             1         2                    0  control\n",
              "4  0.0.163.1             0         2                    0  control"
            ],
            "text/html": [
              "\n",
              "  <div id=\"df-af4aa20e-2574-481b-b494-99a75c425572\">\n",
              "    <div class=\"colab-df-container\">\n",
              "      <div>\n",
              "<style scoped>\n",
              "    .dataframe tbody tr th:only-of-type {\n",
              "        vertical-align: middle;\n",
              "    }\n",
              "\n",
              "    .dataframe tbody tr th {\n",
              "        vertical-align: top;\n",
              "    }\n",
              "\n",
              "    .dataframe thead th {\n",
              "        text-align: right;\n",
              "    }\n",
              "</style>\n",
              "<table border=\"1\" class=\"dataframe\">\n",
              "  <thead>\n",
              "    <tr style=\"text-align: right;\">\n",
              "      <th></th>\n",
              "      <th>IP Address</th>\n",
              "      <th>LoggedInFlag</th>\n",
              "      <th>ServerID</th>\n",
              "      <th>Total_VisitPageFlag</th>\n",
              "      <th>Group</th>\n",
              "    </tr>\n",
              "  </thead>\n",
              "  <tbody>\n",
              "    <tr>\n",
              "      <th>0</th>\n",
              "      <td>0.0.108.2</td>\n",
              "      <td>0</td>\n",
              "      <td>1</td>\n",
              "      <td>0</td>\n",
              "      <td>test</td>\n",
              "    </tr>\n",
              "    <tr>\n",
              "      <th>1</th>\n",
              "      <td>0.0.109.6</td>\n",
              "      <td>1</td>\n",
              "      <td>1</td>\n",
              "      <td>0</td>\n",
              "      <td>test</td>\n",
              "    </tr>\n",
              "    <tr>\n",
              "      <th>2</th>\n",
              "      <td>0.0.111.8</td>\n",
              "      <td>0</td>\n",
              "      <td>3</td>\n",
              "      <td>0</td>\n",
              "      <td>control</td>\n",
              "    </tr>\n",
              "    <tr>\n",
              "      <th>3</th>\n",
              "      <td>0.0.160.9</td>\n",
              "      <td>1</td>\n",
              "      <td>2</td>\n",
              "      <td>0</td>\n",
              "      <td>control</td>\n",
              "    </tr>\n",
              "    <tr>\n",
              "      <th>4</th>\n",
              "      <td>0.0.163.1</td>\n",
              "      <td>0</td>\n",
              "      <td>2</td>\n",
              "      <td>0</td>\n",
              "      <td>control</td>\n",
              "    </tr>\n",
              "  </tbody>\n",
              "</table>\n",
              "</div>\n",
              "      <button class=\"colab-df-convert\" onclick=\"convertToInteractive('df-af4aa20e-2574-481b-b494-99a75c425572')\"\n",
              "              title=\"Convert this dataframe to an interactive table.\"\n",
              "              style=\"display:none;\">\n",
              "        \n",
              "  <svg xmlns=\"http://www.w3.org/2000/svg\" height=\"24px\"viewBox=\"0 0 24 24\"\n",
              "       width=\"24px\">\n",
              "    <path d=\"M0 0h24v24H0V0z\" fill=\"none\"/>\n",
              "    <path d=\"M18.56 5.44l.94 2.06.94-2.06 2.06-.94-2.06-.94-.94-2.06-.94 2.06-2.06.94zm-11 1L8.5 8.5l.94-2.06 2.06-.94-2.06-.94L8.5 2.5l-.94 2.06-2.06.94zm10 10l.94 2.06.94-2.06 2.06-.94-2.06-.94-.94-2.06-.94 2.06-2.06.94z\"/><path d=\"M17.41 7.96l-1.37-1.37c-.4-.4-.92-.59-1.43-.59-.52 0-1.04.2-1.43.59L10.3 9.45l-7.72 7.72c-.78.78-.78 2.05 0 2.83L4 21.41c.39.39.9.59 1.41.59.51 0 1.02-.2 1.41-.59l7.78-7.78 2.81-2.81c.8-.78.8-2.07 0-2.86zM5.41 20L4 18.59l7.72-7.72 1.47 1.35L5.41 20z\"/>\n",
              "  </svg>\n",
              "      </button>\n",
              "      \n",
              "  <style>\n",
              "    .colab-df-container {\n",
              "      display:flex;\n",
              "      flex-wrap:wrap;\n",
              "      gap: 12px;\n",
              "    }\n",
              "\n",
              "    .colab-df-convert {\n",
              "      background-color: #E8F0FE;\n",
              "      border: none;\n",
              "      border-radius: 50%;\n",
              "      cursor: pointer;\n",
              "      display: none;\n",
              "      fill: #1967D2;\n",
              "      height: 32px;\n",
              "      padding: 0 0 0 0;\n",
              "      width: 32px;\n",
              "    }\n",
              "\n",
              "    .colab-df-convert:hover {\n",
              "      background-color: #E2EBFA;\n",
              "      box-shadow: 0px 1px 2px rgba(60, 64, 67, 0.3), 0px 1px 3px 1px rgba(60, 64, 67, 0.15);\n",
              "      fill: #174EA6;\n",
              "    }\n",
              "\n",
              "    [theme=dark] .colab-df-convert {\n",
              "      background-color: #3B4455;\n",
              "      fill: #D2E3FC;\n",
              "    }\n",
              "\n",
              "    [theme=dark] .colab-df-convert:hover {\n",
              "      background-color: #434B5C;\n",
              "      box-shadow: 0px 1px 3px 1px rgba(0, 0, 0, 0.15);\n",
              "      filter: drop-shadow(0px 1px 2px rgba(0, 0, 0, 0.3));\n",
              "      fill: #FFFFFF;\n",
              "    }\n",
              "  </style>\n",
              "\n",
              "      <script>\n",
              "        const buttonEl =\n",
              "          document.querySelector('#df-af4aa20e-2574-481b-b494-99a75c425572 button.colab-df-convert');\n",
              "        buttonEl.style.display =\n",
              "          google.colab.kernel.accessAllowed ? 'block' : 'none';\n",
              "\n",
              "        async function convertToInteractive(key) {\n",
              "          const element = document.querySelector('#df-af4aa20e-2574-481b-b494-99a75c425572');\n",
              "          const dataTable =\n",
              "            await google.colab.kernel.invokeFunction('convertToInteractive',\n",
              "                                                     [key], {});\n",
              "          if (!dataTable) return;\n",
              "\n",
              "          const docLinkHtml = 'Like what you see? Visit the ' +\n",
              "            '<a target=\"_blank\" href=https://colab.research.google.com/notebooks/data_table.ipynb>data table notebook</a>'\n",
              "            + ' to learn more about interactive tables.';\n",
              "          element.innerHTML = '';\n",
              "          dataTable['output_type'] = 'display_data';\n",
              "          await google.colab.output.renderOutput(dataTable, element);\n",
              "          const docLink = document.createElement('div');\n",
              "          docLink.innerHTML = docLinkHtml;\n",
              "          element.appendChild(docLink);\n",
              "        }\n",
              "      </script>\n",
              "    </div>\n",
              "  </div>\n",
              "  "
            ]
          },
          "metadata": {},
          "execution_count": 89
        }
      ]
    },
    {
      "cell_type": "markdown",
      "source": [
        "Создадим таблицу сопряжённости:"
      ],
      "metadata": {
        "id": "RRd352olS2oQ"
      }
    },
    {
      "cell_type": "code",
      "source": [
        "new_cont_table = pd.crosstab(data['Group'],\n",
        "                         data['Total_VisitPageFlag'])\n",
        "new_cont_table"
      ],
      "metadata": {
        "colab": {
          "base_uri": "https://localhost:8080/",
          "height": 143
        },
        "id": "B175lFIiOpBI",
        "outputId": "75a72615-7f3d-4be4-8739-194b30b75b44"
      },
      "execution_count": 90,
      "outputs": [
        {
          "output_type": "execute_result",
          "data": {
            "text/plain": [
              "Total_VisitPageFlag      0     1\n",
              "Group                           \n",
              "control              60329  6131\n",
              "test                 29456  3847"
            ],
            "text/html": [
              "\n",
              "  <div id=\"df-51a17873-f1e2-449e-bb46-b7092fa55162\">\n",
              "    <div class=\"colab-df-container\">\n",
              "      <div>\n",
              "<style scoped>\n",
              "    .dataframe tbody tr th:only-of-type {\n",
              "        vertical-align: middle;\n",
              "    }\n",
              "\n",
              "    .dataframe tbody tr th {\n",
              "        vertical-align: top;\n",
              "    }\n",
              "\n",
              "    .dataframe thead th {\n",
              "        text-align: right;\n",
              "    }\n",
              "</style>\n",
              "<table border=\"1\" class=\"dataframe\">\n",
              "  <thead>\n",
              "    <tr style=\"text-align: right;\">\n",
              "      <th>Total_VisitPageFlag</th>\n",
              "      <th>0</th>\n",
              "      <th>1</th>\n",
              "    </tr>\n",
              "    <tr>\n",
              "      <th>Group</th>\n",
              "      <th></th>\n",
              "      <th></th>\n",
              "    </tr>\n",
              "  </thead>\n",
              "  <tbody>\n",
              "    <tr>\n",
              "      <th>control</th>\n",
              "      <td>60329</td>\n",
              "      <td>6131</td>\n",
              "    </tr>\n",
              "    <tr>\n",
              "      <th>test</th>\n",
              "      <td>29456</td>\n",
              "      <td>3847</td>\n",
              "    </tr>\n",
              "  </tbody>\n",
              "</table>\n",
              "</div>\n",
              "      <button class=\"colab-df-convert\" onclick=\"convertToInteractive('df-51a17873-f1e2-449e-bb46-b7092fa55162')\"\n",
              "              title=\"Convert this dataframe to an interactive table.\"\n",
              "              style=\"display:none;\">\n",
              "        \n",
              "  <svg xmlns=\"http://www.w3.org/2000/svg\" height=\"24px\"viewBox=\"0 0 24 24\"\n",
              "       width=\"24px\">\n",
              "    <path d=\"M0 0h24v24H0V0z\" fill=\"none\"/>\n",
              "    <path d=\"M18.56 5.44l.94 2.06.94-2.06 2.06-.94-2.06-.94-.94-2.06-.94 2.06-2.06.94zm-11 1L8.5 8.5l.94-2.06 2.06-.94-2.06-.94L8.5 2.5l-.94 2.06-2.06.94zm10 10l.94 2.06.94-2.06 2.06-.94-2.06-.94-.94-2.06-.94 2.06-2.06.94z\"/><path d=\"M17.41 7.96l-1.37-1.37c-.4-.4-.92-.59-1.43-.59-.52 0-1.04.2-1.43.59L10.3 9.45l-7.72 7.72c-.78.78-.78 2.05 0 2.83L4 21.41c.39.39.9.59 1.41.59.51 0 1.02-.2 1.41-.59l7.78-7.78 2.81-2.81c.8-.78.8-2.07 0-2.86zM5.41 20L4 18.59l7.72-7.72 1.47 1.35L5.41 20z\"/>\n",
              "  </svg>\n",
              "      </button>\n",
              "      \n",
              "  <style>\n",
              "    .colab-df-container {\n",
              "      display:flex;\n",
              "      flex-wrap:wrap;\n",
              "      gap: 12px;\n",
              "    }\n",
              "\n",
              "    .colab-df-convert {\n",
              "      background-color: #E8F0FE;\n",
              "      border: none;\n",
              "      border-radius: 50%;\n",
              "      cursor: pointer;\n",
              "      display: none;\n",
              "      fill: #1967D2;\n",
              "      height: 32px;\n",
              "      padding: 0 0 0 0;\n",
              "      width: 32px;\n",
              "    }\n",
              "\n",
              "    .colab-df-convert:hover {\n",
              "      background-color: #E2EBFA;\n",
              "      box-shadow: 0px 1px 2px rgba(60, 64, 67, 0.3), 0px 1px 3px 1px rgba(60, 64, 67, 0.15);\n",
              "      fill: #174EA6;\n",
              "    }\n",
              "\n",
              "    [theme=dark] .colab-df-convert {\n",
              "      background-color: #3B4455;\n",
              "      fill: #D2E3FC;\n",
              "    }\n",
              "\n",
              "    [theme=dark] .colab-df-convert:hover {\n",
              "      background-color: #434B5C;\n",
              "      box-shadow: 0px 1px 3px 1px rgba(0, 0, 0, 0.15);\n",
              "      filter: drop-shadow(0px 1px 2px rgba(0, 0, 0, 0.3));\n",
              "      fill: #FFFFFF;\n",
              "    }\n",
              "  </style>\n",
              "\n",
              "      <script>\n",
              "        const buttonEl =\n",
              "          document.querySelector('#df-51a17873-f1e2-449e-bb46-b7092fa55162 button.colab-df-convert');\n",
              "        buttonEl.style.display =\n",
              "          google.colab.kernel.accessAllowed ? 'block' : 'none';\n",
              "\n",
              "        async function convertToInteractive(key) {\n",
              "          const element = document.querySelector('#df-51a17873-f1e2-449e-bb46-b7092fa55162');\n",
              "          const dataTable =\n",
              "            await google.colab.kernel.invokeFunction('convertToInteractive',\n",
              "                                                     [key], {});\n",
              "          if (!dataTable) return;\n",
              "\n",
              "          const docLinkHtml = 'Like what you see? Visit the ' +\n",
              "            '<a target=\"_blank\" href=https://colab.research.google.com/notebooks/data_table.ipynb>data table notebook</a>'\n",
              "            + ' to learn more about interactive tables.';\n",
              "          element.innerHTML = '';\n",
              "          dataTable['output_type'] = 'display_data';\n",
              "          await google.colab.output.renderOutput(dataTable, element);\n",
              "          const docLink = document.createElement('div');\n",
              "          docLink.innerHTML = docLinkHtml;\n",
              "          element.appendChild(docLink);\n",
              "        }\n",
              "      </script>\n",
              "    </div>\n",
              "  </div>\n",
              "  "
            ]
          },
          "metadata": {},
          "execution_count": 90
        }
      ]
    },
    {
      "cell_type": "markdown",
      "source": [
        "Мы готовы применять критерий:"
      ],
      "metadata": {
        "id": "OXTJuSjTQwDf"
      }
    },
    {
      "cell_type": "code",
      "source": [
        "p_value = sps.chi2_contingency(new_cont_table)[1]\n",
        "\n",
        "print(f\"p-value = {p_value}\")"
      ],
      "metadata": {
        "colab": {
          "base_uri": "https://localhost:8080/"
        },
        "id": "OCzvJE8aPUi9",
        "outputId": "a6cd6fa7-7326-4d65-9f7d-f60ee35265f5"
      },
      "execution_count": 91,
      "outputs": [
        {
          "output_type": "stream",
          "name": "stdout",
          "text": [
            "p-value = 8.439189241264638e-31\n"
          ]
        }
      ]
    },
    {
      "cell_type": "code",
      "source": [
        "# посчитаем ctr на тесте и контроле:\n",
        "data_test = data[data['Group']=='test']\n",
        "data_control = data[data['Group']=='control']\n",
        "test_ctr = data_test.Total_VisitPageFlag.sum()/data_test.shape[0]\n",
        "control_ctr = data_control.Total_VisitPageFlag.sum()/data_control.shape[0]\n",
        "\n",
        "print(f\"Test CTR: {round(test_ctr, 4)}\")\n",
        "print(f\"Control CTR: {round(control_ctr, 4)}\")\n",
        "print(f\"Difference: {round(test_ctr - control_ctr, 4)}\")"
      ],
      "metadata": {
        "colab": {
          "base_uri": "https://localhost:8080/"
        },
        "id": "-IVXpMaKT7E_",
        "outputId": "72d9606d-d8cb-4bff-8e76-3386553674eb"
      },
      "execution_count": 92,
      "outputs": [
        {
          "output_type": "stream",
          "name": "stdout",
          "text": [
            "Test CTR: 0.1155\n",
            "Control CTR: 0.0923\n",
            "Difference: 0.0233\n"
          ]
        }
      ]
    },
    {
      "cell_type": "markdown",
      "source": [
        "**Вывод:**\n",
        "\n",
        "Критерий выдал p-value сильно меньше определённого ранее уровня значимости $-$ значит, гипотезу $H_0$ мы смело отвергаем и говорим, что есть статистически значимое \"превосходство\" сервера 1 над остальными (примерно на 2.3 процентных пункта). Было бы интересно также посмотреть на влияние залогиненности на CTR, однако, как отмечалось выше, отсутствие активности залогиненнных пользователей не даёт провести подобный анализ."
      ],
      "metadata": {
        "id": "d2pZcnw4S7tH"
      }
    }
  ]
}